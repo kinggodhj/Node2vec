{
 "cells": [
  {
   "cell_type": "code",
   "execution_count": 2,
   "metadata": {},
   "outputs": [],
   "source": [
    "from node2vec import Node2Vec"
   ]
  },
  {
   "cell_type": "code",
   "execution_count": 1,
   "metadata": {},
   "outputs": [],
   "source": [
    "import json\n",
    "import nltk\n",
    "import re\n",
    "from nltk.tokenize import word_tokenize\n",
    "from nltk.corpus import stopwords "
   ]
  },
  {
   "cell_type": "code",
   "execution_count": 2,
   "metadata": {},
   "outputs": [],
   "source": [
    "import itertools\n",
    "from collections import Counter"
   ]
  },
  {
   "cell_type": "code",
   "execution_count": 3,
   "metadata": {},
   "outputs": [],
   "source": [
    "import networkx as nx"
   ]
  },
  {
   "cell_type": "markdown",
   "metadata": {},
   "source": [
    "## Data Load"
   ]
  },
  {
   "cell_type": "code",
   "execution_count": 4,
   "metadata": {},
   "outputs": [],
   "source": [
    "captions=[]\n",
    "\n",
    "with open(\"./captions_train2014.json\", \"r\") as st_json:\n",
    "    data = json.load(st_json)\n",
    "    \n",
    "for d in data['annotations']:\n",
    "    captions.append(d['caption'].rstrip())\n",
    "    \n",
    "with open(\"./captions_val2014.json\", \"r\") as st_json:\n",
    "    data = json.load(st_json)\n",
    "    \n",
    "for d in data['annotations']:\n",
    "    captions.append(d['caption'].rstrip())\n",
    "    \n",
    "with open(\"./captions_train2017.json\", \"r\") as st_json:\n",
    "    data = json.load(st_json)\n",
    "    \n",
    "for d in data['annotations']:\n",
    "    captions.append(d['caption'].rstrip())\n",
    "    \n",
    "with open(\"./captions_val2017.json\", \"r\") as st_json:\n",
    "    data = json.load(st_json)\n",
    "    \n",
    "for d in data['annotations']:\n",
    "    captions.append(d['caption'].rstrip())"
   ]
  },
  {
   "cell_type": "markdown",
   "metadata": {},
   "source": [
    "## Tokenize"
   ]
  },
  {
   "cell_type": "code",
   "execution_count": 5,
   "metadata": {},
   "outputs": [],
   "source": [
    "preprocess = []\n",
    "for s in captions:\n",
    "    tokens = re.sub(r\"[^a-z0-9]+\", \" \", s.lower())\n",
    "    preprocess.append(tokens)\n",
    "\n",
    "token = [word_tokenize(s) for s in preprocess]"
   ]
  },
  {
   "cell_type": "markdown",
   "metadata": {},
   "source": [
    "## Remove stopwords (like 'a', 'the', 'an')"
   ]
  },
  {
   "cell_type": "code",
   "execution_count": 6,
   "metadata": {},
   "outputs": [],
   "source": [
    "stop_words = set(stopwords.words('english')) "
   ]
  },
  {
   "cell_type": "code",
   "execution_count": 7,
   "metadata": {},
   "outputs": [],
   "source": [
    "text = []\n",
    "for s in token:\n",
    "    tmp=[]\n",
    "    for w in s: \n",
    "        if w not in stop_words: \n",
    "            tmp.append(w) \n",
    "    text.append(tmp)"
   ]
  },
  {
   "cell_type": "markdown",
   "metadata": {},
   "source": [
    "## Construct word graph"
   ]
  },
  {
   "cell_type": "code",
   "execution_count": 8,
   "metadata": {},
   "outputs": [],
   "source": [
    "counter=Counter(itertools.chain.from_iterable(text))"
   ]
  },
  {
   "cell_type": "code",
   "execution_count": 9,
   "metadata": {},
   "outputs": [],
   "source": [
    "counter={w: c for w, c in counter.items()}"
   ]
  },
  {
   "cell_type": "code",
   "execution_count": 10,
   "metadata": {},
   "outputs": [],
   "source": [
    "def makevocab(text):\n",
    "    counter=Counter(itertools.chain.from_iterable(text))\n",
    "    id2word = [w for w, c in sorted(counter.items(), key=lambda x: -x[1])]\n",
    "    word2id = {w: idx for idx, w in enumerate(id2word)}\n",
    "    return id2word, word2id"
   ]
  },
  {
   "cell_type": "code",
   "execution_count": 11,
   "metadata": {},
   "outputs": [],
   "source": [
    "def coocur(text, word2id, window=3):\n",
    "    co_dict = {}\n",
    "    for s in text:\n",
    "        for i, token in enumerate(s):\n",
    "            left_idx = max(0, i-window)\n",
    "            right_idx = min(len(s), i+window)\n",
    "            for n_token in s[left_idx:right_idx]:\n",
    "                if token != n_token:\n",
    "                    key = tuple(sorted([token, n_token]))\n",
    "                    if key in co_dict:\n",
    "                        co_dict[key] += 1\n",
    "                    else:\n",
    "                        co_dict[key] = 1\n",
    "    return {k: v for k, v in co_dict.items() if v >= 1}"
   ]
  },
  {
   "cell_type": "code",
   "execution_count": 12,
   "metadata": {},
   "outputs": [],
   "source": [
    "id2word, word2id=makevocab(text)"
   ]
  },
  {
   "cell_type": "code",
   "execution_count": 13,
   "metadata": {},
   "outputs": [],
   "source": [
    "edge=coocur(text, word2id)"
   ]
  },
  {
   "cell_type": "code",
   "execution_count": 14,
   "metadata": {},
   "outputs": [],
   "source": [
    "G=nx.Graph()"
   ]
  },
  {
   "cell_type": "code",
   "execution_count": 15,
   "metadata": {},
   "outputs": [],
   "source": [
    "for i, node in enumerate(id2word):\n",
    "    G.add_node(i, name=node)"
   ]
  },
  {
   "cell_type": "code",
   "execution_count": 16,
   "metadata": {},
   "outputs": [],
   "source": [
    "#G.nodes.data()"
   ]
  },
  {
   "cell_type": "code",
   "execution_count": 17,
   "metadata": {},
   "outputs": [],
   "source": [
    "for (n1, n2), co in edge.items():\n",
    "    G.add_edge(n1, n2, weight=co)"
   ]
  },
  {
   "cell_type": "code",
   "execution_count": 22,
   "metadata": {
    "scrolled": true
   },
   "outputs": [],
   "source": [
    "#G.edges.data()"
   ]
  },
  {
   "cell_type": "code",
   "execution_count": 19,
   "metadata": {},
   "outputs": [],
   "source": [
    "nx.write_weighted_edgelist(G, './edge')"
   ]
  },
  {
   "cell_type": "markdown",
   "metadata": {},
   "source": [
    "## Embedding"
   ]
  },
  {
   "cell_type": "code",
   "execution_count": null,
   "metadata": {
    "scrolled": true
   },
   "outputs": [
    {
     "data": {
      "application/vnd.jupyter.widget-view+json": {
       "model_id": "6f9731c8dbbb46f282d4763af12c84e3",
       "version_major": 2,
       "version_minor": 0
      },
      "text/plain": [
       "Computing transition probabilities:   0%|          | 0/54342 [00:00<?, ?it/s]"
      ]
     },
     "metadata": {},
     "output_type": "display_data"
    }
   ],
   "source": [
    "node2vec = Node2Vec(G, dimensions=64, walk_length=10, num_walks=100, workers=4)"
   ]
  },
  {
   "cell_type": "code",
   "execution_count": null,
   "metadata": {},
   "outputs": [],
   "source": [
    "model = node2vec.fit(window=10, min_count=1, batch_words=4)  # Any keywords acceptable by gensim.Word2Vec can be passed, `dimensions` and `workers` are automatically passed (from the Node2Vec constructor)"
   ]
  },
  {
   "cell_type": "markdown",
   "metadata": {},
   "source": [
    "### \"I read a book\"\n",
    "### \"I have to book a restaurant\""
   ]
  },
  {
   "cell_type": "code",
   "execution_count": null,
   "metadata": {},
   "outputs": [],
   "source": [
    "model.wv.most_similar('read')"
   ]
  },
  {
   "cell_type": "code",
   "execution_count": null,
   "metadata": {},
   "outputs": [],
   "source": [
    "model.wv.most_similar('restaurant')"
   ]
  },
  {
   "cell_type": "code",
   "execution_count": null,
   "metadata": {},
   "outputs": [],
   "source": []
  }
 ],
 "metadata": {
  "kernelspec": {
   "display_name": "basic",
   "language": "python",
   "name": "basic"
  },
  "language_info": {
   "codemirror_mode": {
    "name": "ipython",
    "version": 3
   },
   "file_extension": ".py",
   "mimetype": "text/x-python",
   "name": "python",
   "nbconvert_exporter": "python",
   "pygments_lexer": "ipython3",
   "version": "3.7.9"
  }
 },
 "nbformat": 4,
 "nbformat_minor": 4
}
